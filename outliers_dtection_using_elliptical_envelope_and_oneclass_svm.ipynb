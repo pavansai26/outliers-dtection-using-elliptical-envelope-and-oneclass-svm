{
  "nbformat": 4,
  "nbformat_minor": 0,
  "metadata": {
    "colab": {
      "name": "outliers dtection using elliptical envelope and oneclass svm.ipynb",
      "provenance": [],
      "private_outputs": true,
      "authorship_tag": "ABX9TyNDf2pYVBUdKtH7Pi+W85U5",
      "include_colab_link": true
    },
    "kernelspec": {
      "name": "python3",
      "display_name": "Python 3"
    },
    "accelerator": "GPU"
  },
  "cells": [
    {
      "cell_type": "markdown",
      "metadata": {
        "id": "view-in-github",
        "colab_type": "text"
      },
      "source": [
        "<a href=\"https://colab.research.google.com/github/pavansai26/outliers-dtection-using-elliptical-envelope-and-oneclass-svm/blob/master/outliers_dtection_using_elliptical_envelope_and_oneclass_svm.ipynb\" target=\"_parent\"><img src=\"https://colab.research.google.com/assets/colab-badge.svg\" alt=\"Open In Colab\"/></a>"
      ]
    },
    {
      "cell_type": "code",
      "metadata": {
        "id": "ij_hrZan3ykA",
        "colab_type": "code",
        "colab": {}
      },
      "source": [
        "import pylab\n",
        "import numpy as np\n",
        "import pandas as pd\n",
        "from sklearn.svm import OneClassSVM\n",
        "from sklearn.covariance import EllipticEnvelope\n",
        "pylab.rcParams.update({'font.size':14})"
      ],
      "execution_count": 0,
      "outputs": []
    },
    {
      "cell_type": "code",
      "metadata": {
        "id": "LDk_3bMe4dGt",
        "colab_type": "code",
        "colab": {}
      },
      "source": [
        "from google.colab import drive\n",
        "drive.mount('/gdrive')"
      ],
      "execution_count": 0,
      "outputs": []
    },
    {
      "cell_type": "code",
      "metadata": {
        "id": "YfLftWO_65xR",
        "colab_type": "code",
        "colab": {}
      },
      "source": [
        "df=pd.read_csv('/gdrive/My Drive/Colab Notebooks/conn250K.csv')"
      ],
      "execution_count": 0,
      "outputs": []
    },
    {
      "cell_type": "code",
      "metadata": {
        "id": "6c5lJi0j7wJ4",
        "colab_type": "code",
        "colab": {}
      },
      "source": [
        "df"
      ],
      "execution_count": 0,
      "outputs": []
    },
    {
      "cell_type": "code",
      "metadata": {
        "id": "3M8iIJAR9D5S",
        "colab_type": "code",
        "colab": {}
      },
      "source": [
        "df.shape"
      ],
      "execution_count": 0,
      "outputs": []
    },
    {
      "cell_type": "code",
      "metadata": {
        "id": "BWFYYiiF9Gd6",
        "colab_type": "code",
        "colab": {}
      },
      "source": [
        "df.keys"
      ],
      "execution_count": 0,
      "outputs": []
    },
    {
      "cell_type": "code",
      "metadata": {
        "id": "61ZXEFt79Ilt",
        "colab_type": "code",
        "colab": {}
      },
      "source": [
        "df.columns"
      ],
      "execution_count": 0,
      "outputs": []
    },
    {
      "cell_type": "code",
      "metadata": {
        "id": "A5iPezWe9Ly2",
        "colab_type": "code",
        "colab": {}
      },
      "source": [
        "df.head()"
      ],
      "execution_count": 0,
      "outputs": []
    },
    {
      "cell_type": "code",
      "metadata": {
        "id": "9TzPGzjG9P_3",
        "colab_type": "code",
        "colab": {}
      },
      "source": [
        "df.tail()"
      ],
      "execution_count": 0,
      "outputs": []
    },
    {
      "cell_type": "code",
      "metadata": {
        "id": "Z_sRvQtX9TWJ",
        "colab_type": "code",
        "colab": {}
      },
      "source": [
        "df.head(0)"
      ],
      "execution_count": 0,
      "outputs": []
    },
    {
      "cell_type": "code",
      "metadata": {
        "id": "q9dC4iNH9VnW",
        "colab_type": "code",
        "colab": {}
      },
      "source": [
        "df.describe()"
      ],
      "execution_count": 0,
      "outputs": []
    },
    {
      "cell_type": "code",
      "metadata": {
        "id": "5OfPCR0D9bH-",
        "colab_type": "code",
        "colab": {}
      },
      "source": [
        "df.count()"
      ],
      "execution_count": 0,
      "outputs": []
    },
    {
      "cell_type": "code",
      "metadata": {
        "id": "t1ShdPsa9mhO",
        "colab_type": "code",
        "colab": {}
      },
      "source": [
        "df.isnull().sum()"
      ],
      "execution_count": 0,
      "outputs": []
    },
    {
      "cell_type": "code",
      "metadata": {
        "id": "73vr4Skh9ryP",
        "colab_type": "code",
        "colab": {}
      },
      "source": [
        "qv1=df.iloc[:,0].quantile(0.25) # get quantile values and  iqr for outlier limits"
      ],
      "execution_count": 0,
      "outputs": []
    },
    {
      "cell_type": "code",
      "metadata": {
        "id": "v4cqLjx9-OXf",
        "colab_type": "code",
        "colab": {}
      },
      "source": [
        "qv1"
      ],
      "execution_count": 0,
      "outputs": []
    },
    {
      "cell_type": "code",
      "metadata": {
        "id": "aAYXWCh9-cI1",
        "colab_type": "code",
        "colab": {}
      },
      "source": [
        "qv2=df.iloc[:,0].quantile(0.5)\n",
        "qv2"
      ],
      "execution_count": 0,
      "outputs": []
    },
    {
      "cell_type": "code",
      "metadata": {
        "id": "zGio7dYF-wsz",
        "colab_type": "code",
        "colab": {}
      },
      "source": [
        "qv3=df.iloc[:,0].quantile(0.75)\n",
        "qv3"
      ],
      "execution_count": 0,
      "outputs": []
    },
    {
      "cell_type": "code",
      "metadata": {
        "id": "E163_bBz-6uL",
        "colab_type": "code",
        "colab": {}
      },
      "source": [
        "qv_limit=1.5*(qv3-qv1)\n",
        "qv_limit"
      ],
      "execution_count": 0,
      "outputs": []
    },
    {
      "cell_type": "code",
      "metadata": {
        "id": "eaFChk_1_GAe",
        "colab_type": "code",
        "colab": {}
      },
      "source": [
        "un_outliers_mask=(df.iloc[:,0]>qv3+qv_limit) | (df.iloc[:,0]<qv1-qv_limit)\n",
        "print(un_outliers_mask[:20])"
      ],
      "execution_count": 0,
      "outputs": []
    },
    {
      "cell_type": "code",
      "metadata": {
        "id": "oOKS_vd8AENq",
        "colab_type": "code",
        "colab": {}
      },
      "source": [
        "un_outliers_data=df.iloc[:,0][un_outliers_mask]\n",
        "print(un_outliers_data[:50])"
      ],
      "execution_count": 0,
      "outputs": []
    },
    {
      "cell_type": "code",
      "metadata": {
        "id": "ZJ3LgqT_AzRE",
        "colab_type": "code",
        "colab": {}
      },
      "source": [
        "fig=pylab.figure(figsize=(6,6))\n",
        "ax=fig.add_subplot(1,1,1)\n",
        "for name,y in zip(un_outliers_mask,un_outliers_data):\n",
        "  ax.text(1,y,name)\n",
        "ax.boxplot(df.iloc[:,0])\n",
        "#ax.set_ylabel(df.iloc[:,0])"
      ],
      "execution_count": 0,
      "outputs": []
    },
    {
      "cell_type": "code",
      "metadata": {
        "id": "SAld-2PfBogu",
        "colab_type": "code",
        "colab": {}
      },
      "source": [
        ""
      ],
      "execution_count": 0,
      "outputs": []
    },
    {
      "cell_type": "markdown",
      "metadata": {
        "id": "hv9r6fdECSNz",
        "colab_type": "text"
      },
      "source": [
        "bivariate outliers:\n",
        "create a scatterplot with an ellipse as a boundary for outliers."
      ]
    },
    {
      "cell_type": "code",
      "metadata": {
        "id": "Jfg1DUM3CfZA",
        "colab_type": "code",
        "colab": {}
      },
      "source": [
        "params=[df.iloc[:,0],df.iloc[:,1]]\n",
        "params_data=np.array([df.iloc[:,0],df.iloc[:,1]]).T"
      ],
      "execution_count": 0,
      "outputs": []
    },
    {
      "cell_type": "code",
      "metadata": {
        "id": "SLMLlsQ_DGmc",
        "colab_type": "code",
        "colab": {}
      },
      "source": [
        ""
      ],
      "execution_count": 0,
      "outputs": []
    },
    {
      "cell_type": "markdown",
      "metadata": {
        "id": "U_-aXo9TDOcY",
        "colab_type": "text"
      },
      "source": [
        "compute the elliptical envelope"
      ]
    },
    {
      "cell_type": "code",
      "metadata": {
        "id": "GknJ3wiXDR2p",
        "colab_type": "code",
        "colab": {}
      },
      "source": [
        "ee=EllipticEnvelope()\n",
        "ee.fit(params_data)"
      ],
      "execution_count": 0,
      "outputs": []
    },
    {
      "cell_type": "code",
      "metadata": {
        "id": "exKj5q1ADbcL",
        "colab_type": "code",
        "colab": {}
      },
      "source": [
        "biv_outliers_mask=ee.predict(params_data)== -1"
      ],
      "execution_count": 0,
      "outputs": []
    },
    {
      "cell_type": "code",
      "metadata": {
        "id": "0ajitqiIDvue",
        "colab_type": "code",
        "colab": {}
      },
      "source": [
        "(biv_outliers_mask)"
      ],
      "execution_count": 0,
      "outputs": []
    },
    {
      "cell_type": "code",
      "metadata": {
        "id": "YFEZPtx6D2BI",
        "colab_type": "code",
        "colab": {}
      },
      "source": [
        "biv_outliers_data=params_data[biv_outliers_mask]\n"
      ],
      "execution_count": 0,
      "outputs": []
    },
    {
      "cell_type": "code",
      "metadata": {
        "id": "bCnL-lc6EB5x",
        "colab_type": "code",
        "colab": {}
      },
      "source": [
        "biv_outliers_data"
      ],
      "execution_count": 0,
      "outputs": []
    },
    {
      "cell_type": "code",
      "metadata": {
        "id": "wUTVsSQ5EEN7",
        "colab_type": "code",
        "colab": {}
      },
      "source": [
        "xx,yy=np.meshgrid(np.linspace(params_data[:,0].min(),params_data[:,0].max(),100),np.linspace(params_data[:,1].min(),params_data[:,1].max(),100))"
      ],
      "execution_count": 0,
      "outputs": []
    },
    {
      "cell_type": "code",
      "metadata": {
        "id": "U4pILrIxE6M4",
        "colab_type": "code",
        "colab": {}
      },
      "source": [
        "zz=ee.decision_function(np.c_[xx.ravel(),yy.ravel()])\n",
        "zz=zz.reshape(xx.shape)"
      ],
      "execution_count": 0,
      "outputs": []
    },
    {
      "cell_type": "code",
      "metadata": {
        "id": "zDOUn0nqFNTn",
        "colab_type": "code",
        "colab": {}
      },
      "source": [
        ""
      ],
      "execution_count": 0,
      "outputs": []
    },
    {
      "cell_type": "markdown",
      "metadata": {
        "id": "gsnuTWnDFPkN",
        "colab_type": "text"
      },
      "source": [
        "draw the scatterplot with the elliptical envelope and label the outliers"
      ]
    },
    {
      "cell_type": "code",
      "metadata": {
        "id": "Wt3nJxnuFYHJ",
        "colab_type": "code",
        "colab": {}
      },
      "source": [
        "fig=pylab.figure(figsize=(10,10))\n",
        "ax=fig.add_subplot(1,1,1)\n",
        "for name,xy in zip(biv_outliers_mask[:50],biv_outliers_data[:50]):\n",
        "  ax.text(xy[0],xy[1],name)\n",
        "ax.contour(xx,yy,zz,levels=[0],linewidth=2)\n",
        "ax.scatter(params_data[:,0],params_data[:,1],color='black')"
      ],
      "execution_count": 0,
      "outputs": []
    },
    {
      "cell_type": "markdown",
      "metadata": {
        "id": "9EQNx5SBIWtz",
        "colab_type": "text"
      },
      "source": [
        "ellipse is obtained with the data outside the ellipse data points called outliers.\n",
        "but ellipse is not visible."
      ]
    },
    {
      "cell_type": "code",
      "metadata": {
        "id": "oC8PARcDGXQx",
        "colab_type": "code",
        "colab": {}
      },
      "source": [
        ""
      ],
      "execution_count": 0,
      "outputs": []
    },
    {
      "cell_type": "markdown",
      "metadata": {
        "id": "74pcD0kIHTxJ",
        "colab_type": "text"
      },
      "source": [
        "multivariate outliers"
      ]
    },
    {
      "cell_type": "code",
      "metadata": {
        "id": "M-9udcz-HWxn",
        "colab_type": "code",
        "colab": {}
      },
      "source": [
        ""
      ],
      "execution_count": 0,
      "outputs": []
    },
    {
      "cell_type": "markdown",
      "metadata": {
        "id": "k-HRMzZbHYP8",
        "colab_type": "text"
      },
      "source": [
        "use the one class svm algorithm to classify unusual cases."
      ]
    },
    {
      "cell_type": "code",
      "metadata": {
        "id": "Qp-4yqy7KjwM",
        "colab_type": "code",
        "colab": {}
      },
      "source": [
        "ocsvm=OneClassSVM(nu=0.25,gamma=0.05)\n",
        "ocsvm.fit(df)\n",
        "\n"
      ],
      "execution_count": 0,
      "outputs": []
    },
    {
      "cell_type": "code",
      "metadata": {
        "id": "XQ7ce7d1KGFv",
        "colab_type": "code",
        "colab": {}
      },
      "source": [
        "ocsvm.predict(df)==-1"
      ],
      "execution_count": 0,
      "outputs": []
    }
  ]
}